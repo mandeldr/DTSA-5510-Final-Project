{
 "cells": [
  {
   "cell_type": "markdown",
   "metadata": {},
   "source": [
    "## DTSA 5510 Unsupervised Algorithms Final Project\n",
    "\n",
    "### Problem\n",
    "My project aim is to explore patterns in job descriptions by clustering them into meaningful categories using unsupervised learning. This may reveal hidden groupings such as tech, marketing, administration and the like based purely on textual data.\n",
    "\n",
    "### Data Source\n",
    "We use the **LinkedIn Job Postings** dataset available on [Kaggle](https://www.kaggle.com/datasets/arshkon/linkedin-job-postings). It contains thousands of job postings from LinkedIn.\n",
    "\n",
    "### Data Description from Kaggle\n",
    "Every day, thousands of companies and individuals turn to LinkedIn in search of talent. This dataset contains a nearly comprehensive record of 124,000+ job postings listed in 2023 and 2024. Each individual posting contains dozens of valuable attributes for both postings and companies, including the title, job description, salary, location, application URL, and work-types (remote, contract, etc), in addition to separate files containing the benefits, skills, and industries associated with each posting. The majority of jobs are also linked to a company, which are all listed in another csv file containing attributes such as the company description, headquarters location, and number of employees, and follower count.\n",
    "\n",
    "With so many datapoints, the potential for exploration of this dataset is vast and includes exploring the highest compensated titles, companies, and locations; predicting salaries/benefits through NLP; and examining how industries and companies vary through their internship offerings and benefits. Future updates will permit further exploration into time-based trends, including company growth, prevalence of remote jobs, and demand of individual job titles over time."
   ]
  },
  {
   "cell_type": "markdown",
   "metadata": {},
   "source": [
    "## Identify an Unsupervised Learning Problem\n",
    "\n",
    "### Unsupervised Learning Task\n",
    "The primary task is to cluster job descriptions into coherent categories using text-based unsupervised learning techniques.\n",
    "\n",
    "I treated the job description as unstructured text data and convert it to numerical representations using TF-IDF. My hypothesis is that similar roles will naturally cluster together based on common vocabulary and phrasing. (i.e years of experience, programming languages, responsibilities)\n",
    "\n",
    "### Models Used\n",
    "- **KMeans Clustering**: A centroid-based algorithm that aims to minimize within-cluster variance.\n",
    "- **Hierarchical Agglomerative Clustering**: A bottom-up clustering approach that merges the most similar points iteratively.\n",
    "\n",
    "These models help discover the underlying groupings in the job market such as engineering roles, marketing, healthcare, education etc.\n",
    "\n",
    "### Project Scope\n",
    "My project focuses on comparing **two distinct clustering models**, evaluating their performance with visualization and interpretability techniques like **silhouette scores**, **t-SNE projections**, and **top cluster terms**.\n",
    "\n",
    "I will explore some parameter tuning (e.g., number of clusters), dimensionality reduction, and compare clustering outputs to find the most meaningful results."
   ]
  },
  {
   "cell_type": "markdown",
   "metadata": {},
   "source": [
    "## Exploratory Data Analysis (EDA) — Inspect, Visualize, and Clean the Data\n",
    "\n",
    "I will do some standard EDA analysis. In this section, I will explore the dataset to understand its structure, clean the text data, and evaluate the distribution of job descriptions.\n",
    "\n",
    "### Features Overview\n",
    "The main features that I care about in this dataset are:\n",
    "- **Job Title**: The position.\n",
    "- **Company**: Employer name.\n",
    "- **Location**: Geographic location.\n",
    "- **Job Description**: Detailed posting text.\n",
    "\n",
    "### Description Length Analysis\n",
    "I examine the distribution of the number of words in job descriptions to assess consistency.\n",
    "\n",
    "### Missing Values\n",
    "I check for missing job descriptions and handle them by discarding incomplete records.\n",
    "\n",
    "### Visualizations\n",
    "- Histogram of job description lengths\n",
    "\n",
    "### Data Cleaning Steps\n",
    "- Drop rows with missing `description`\n",
    "- Remove punctuation, lowercase text, and strip extra whitespace\n",
    "- Remove stopwords and perform basic tokenization\n",
    "\n",
    "### Hypothesis About Transformations\n",
    "Since I use **text vectorization**, I normalize the text using **TF-IDF** to reduce the impact of very frequent terms. No additional scaling is required due to the nature of sparse TF-IDF data.\n",
    "\n",
    "Outliers in word counts (very short or very long descriptions) will be visualized, but not removed unless they distort clustering significantly.\n",
    "\n",
    "I am going to hypothesize that **job descriptions** hold the most signal, while other features like company or location may add limited value unless geographic clustering is of interest. This will be confirmed through my clustering results."
   ]
  },
  {
   "cell_type": "markdown",
   "metadata": {},
   "source": [
    "## Analysis Using Unsupervised Learning Models, Present Discussion, and Conclusions\n",
    "\n",
    "In this section, I apply and compare unsupervised learning models to cluster job descriptions. Then analyze how the models performed, interpret the results, and draw conclusions about their effectiveness.\n",
    "\n",
    "### Models Used\n",
    "- **KMeans Clustering**: Simple and scalable, good for convex-shaped clusters. I experimented with different values of `k` using the Elbow method and evaluate using the **Silhouette Score**.\n",
    "- **Agglomerative Hierarchical Clustering**: Captures nested structures, useful when the number of clusters is unknown. I will visualize this using a dendrogram and compare clustering quality.\n",
    "\n",
    "### Model Evaluation\n",
    "- **Silhouette Score**: Measures cohesion and separation of clusters.\n",
    "- **t-SNE Visualization**: Reduces high-dimensional data to 2D for visual inspection of clustering structure.\n",
    "- **Top Terms Per Cluster**: Extract the most representative terms using TF-IDF weights.\n",
    "\n",
    "### Hyperparameter Tuning\n",
    "- For KMeans, I vary the number of clusters `k` and plot the Elbow curve.\n",
    "- For Agglomerative Clustering, I experiment with linkage criteria (e.g., 'ward', 'average').\n",
    "\n",
    "### Discussion\n",
    "- Compare the results between models: Are clusters stable? Are some job categories more clearly separated?\n",
    "- Analyze the limitations Sparse TF-IDF data, sensitivity to `k`, interpretability.\n",
    "- Justify model choices based on data structure and outcomes.\n",
    "\n",
    "### Conclusion\n",
    "I will then summarize key findings, comment on the usefulness of each clustering approach, and suggest future directions (e.g., incorporating job titles, locations, or embeddings)."
   ]
  },
  {
   "cell_type": "code",
   "execution_count": null,
   "metadata": {
    "ExecuteTime": {
     "end_time": "2025-04-24T17:25:53.399605Z",
     "start_time": "2025-04-24T17:25:42.887615Z"
    }
   },
   "outputs": [],
   "source": [
    "# Import required libraries\n",
    "import pandas as pd\n",
    "import numpy as np\n",
    "import re\n",
    "import matplotlib.pyplot as plt\n",
    "import seaborn as sns\n",
    "from geopy.geocoders import Nominatim\n",
    "import time\n",
    "import folium\n",
    "import plotly.express as px\n",
    "\n",
    "# Load dataset\n",
    "df = pd.read_csv('linkedin-data/job-postings.csv')\n",
    "\n",
    "# EDA\n",
    "df.info()\n",
    "\n",
    "# Keep relevant columns\n",
    "df = df[['title', 'company_name', 'location', 'description']].dropna(subset=['description'])\n",
    "\n",
    "# Basic text cleaning\n",
    "def clean_text(text):\n",
    "    text = re.sub(r'[^a-zA-Z ]', '', text)\n",
    "    text = text.lower()\n",
    "    return text\n",
    "\n",
    "# Save the cleaned job description\n",
    "df['cleaned_description'] = df['description'].apply(clean_text)\n",
    "df['desc_length'] = df['cleaned_description'].apply(lambda x: len(x.split()))\n",
    "\n",
    "# Histogram of description lengths\n",
    "plt.figure(figsize=(10,5))\n",
    "plt.hist(df['desc_length'], bins=50, color='skyblue')\n",
    "plt.title('Distribution of Job Description Word Counts')\n",
    "plt.xlabel('Word Count')\n",
    "plt.ylabel('Frequency')\n",
    "plt.show()"
   ]
  },
  {
   "cell_type": "code",
   "execution_count": null,
   "metadata": {
    "ExecuteTime": {
     "end_time": "2025-04-24T17:25:53.553910Z",
     "start_time": "2025-04-24T17:25:53.408140Z"
    }
   },
   "outputs": [],
   "source": [
    "# Top 15 locations by frequency\n",
    "import matplotlib.pyplot as plt\n",
    "import seaborn as sns\n",
    "\n",
    "top_locations = df['location'].value_counts().head(15)\n",
    "\n",
    "plt.figure(figsize=(10, 6))\n",
    "sns.barplot(x=top_locations.values, y=top_locations.index, palette='Blues_d')\n",
    "plt.title(\"Top 15 Job Locations\")\n",
    "plt.xlabel(\"Number of Listings\")\n",
    "plt.ylabel(\"Location\")\n",
    "plt.tight_layout()\n",
    "plt.show()"
   ]
  },
  {
   "cell_type": "code",
   "execution_count": null,
   "metadata": {
    "ExecuteTime": {
     "end_time": "2025-04-24T17:25:53.710054Z",
     "start_time": "2025-04-24T17:25:53.568980Z"
    }
   },
   "outputs": [],
   "source": [
    "company_counts = df['company_name'].value_counts().reset_index()\n",
    "company_counts.columns = ['company_name', 'listing_count']\n",
    "\n",
    "# Select top 15 companies\n",
    "top_companies = company_counts.head(15)\n",
    "\n",
    "# Create bar plot\n",
    "plt.figure(figsize=(12, 6))\n",
    "sns.barplot(data=top_companies, x='listing_count', y='company_name', palette='viridis')\n",
    "plt.title('Top 15 Companies by Number of Job Listings')\n",
    "plt.xlabel('Number of Listings')\n",
    "plt.ylabel('Company')\n",
    "plt.tight_layout()\n",
    "plt.show()"
   ]
  },
  {
   "cell_type": "code",
   "execution_count": null,
   "metadata": {
    "ExecuteTime": {
     "end_time": "2025-04-24T17:27:30.332179Z",
     "start_time": "2025-04-24T17:27:29.594569Z"
    }
   },
   "outputs": [],
   "source": [
    "# TF-IDF Vectorization\n",
    "from sklearn.feature_extraction.text import TfidfVectorizer\n",
    "\n",
    "vectorizer = TfidfVectorizer(stop_words='english', max_features=3000)\n",
    "df_sample = df.sample(n=3000, random_state=42)\n",
    "X = vectorizer.fit_transform(df_sample['cleaned_description'])\n",
    "feature_names = vectorizer.get_feature_names_out()\n",
    "\n",
    "# Calculate mean TF-IDF score for each term\n",
    "mean_tfidf = X.mean(axis=0).A1\n",
    "top_indices = np.argsort(mean_tfidf)[::-1][:20]\n",
    "top_terms = [feature_names[i] for i in top_indices]\n",
    "top_scores = mean_tfidf[top_indices]\n",
    "\n",
    "# Bar plot\n",
    "plt.figure(figsize=(12, 6))\n",
    "plt.barh(top_terms[::-1], top_scores[::-1], color='teal')\n",
    "plt.xlabel('Mean TF-IDF Score')\n",
    "plt.title('Top 20 TF-IDF Terms Across All Job Descriptions')\n",
    "plt.tight_layout()\n",
    "plt.show()"
   ]
  },
  {
   "cell_type": "code",
   "execution_count": null,
   "metadata": {
    "ExecuteTime": {
     "end_time": "2025-04-24T17:34:03.488246Z",
     "start_time": "2025-04-24T17:33:58.455986Z"
    }
   },
   "outputs": [],
   "source": [
    "# 📊 KMeans and Agglomerative Clustering\n",
    "from sklearn.cluster import KMeans, AgglomerativeClustering\n",
    "from sklearn.metrics import silhouette_score\n",
    "\n",
    "# KMeans\n",
    "kmeans = KMeans(n_clusters=5, random_state=42)\n",
    "kmeans_labels = kmeans.fit_predict(X)\n",
    "kmeans_sil = silhouette_score(X, kmeans_labels)\n",
    "print(\"KMeans Silhouette Score:\", kmeans_sil)\n",
    "\n",
    "# Agglomerative\n",
    "agglo = AgglomerativeClustering(n_clusters=5)\n",
    "agglo_labels = agglo.fit_predict(X.toarray())\n",
    "agglo_sil = silhouette_score(X, agglo_labels)\n",
    "print(\"Agglomerative Silhouette Score:\", agglo_sil)"
   ]
  },
  {
   "cell_type": "code",
   "execution_count": null,
   "metadata": {
    "ExecuteTime": {
     "end_time": "2025-04-24T17:35:50.715765Z",
     "start_time": "2025-04-24T17:35:42.540073Z"
    }
   },
   "outputs": [],
   "source": [
    "# 🌐 t-SNE Visualization\n",
    "from sklearn.manifold import TSNE\n",
    "\n",
    "tsne = TSNE(n_components=2, random_state=42)\n",
    "X_embedded = tsne.fit_transform(X.toarray())\n",
    "\n",
    "plt.figure(figsize=(10,6))\n",
    "sns.scatterplot(x=X_embedded[:,0], y=X_embedded[:,1], hue=kmeans_labels, palette='tab10')\n",
    "plt.title(\"t-SNE Visualization of KMeans Clusters\")\n",
    "plt.show()\n",
    "\n",
    "# Plot clusters\n",
    "plt.figure(figsize=(10, 6))\n",
    "sns.scatterplot(x=X_embedded[:, 0], y=X_embedded[:, 1], hue=agglo_labels, palette='tab10', s=60)\n",
    "plt.title(\"t-SNE Visualization of Agglomerative Clusters\")\n",
    "plt.xlabel(\"Component 1\")\n",
    "plt.ylabel(\"Component 2\")\n",
    "plt.legend(title=\"Cluster\")\n",
    "plt.tight_layout()\n",
    "plt.show()"
   ]
  },
  {
   "cell_type": "code",
   "execution_count": 72,
   "metadata": {
    "ExecuteTime": {
     "end_time": "2025-04-24T19:04:31.058093Z",
     "start_time": "2025-04-24T19:04:31.018815Z"
    }
   },
   "outputs": [
    {
     "name": "stdout",
     "output_type": "stream",
     "text": [
      "KMeans Cluster Terms:\n",
      "\n",
      "Cluster 0: marketing, media, content, campaigns, social, digital, communications, brand, creative, business\n",
      "\n",
      "Cluster 1: work, experience, team, company, job, including, financial, management, position, required\n",
      "\n",
      "Cluster 2: project, data, experience, design, engineering, technical, software, business, management, development\n",
      "\n",
      "Cluster 3: care, patient, patients, nursing, health, nurse, healthcare, medical, rn, clinical\n",
      "\n",
      "Cluster 4: sales, store, customer, customers, business, team, merchandise, retail, work, service\n",
      "Agglo Cluster Terms:\n",
      "\n",
      "Cluster 0: work, experience, sales, team, business, customer, management, company, including, position\n",
      "\n",
      "Cluster 1: care, patient, nursing, patients, health, nurse, healthcare, medical, rn, registered\n",
      "\n",
      "Cluster 2: project, experience, data, design, engineering, software, technical, security, work, development\n",
      "\n",
      "Cluster 3: store, merchandise, customer, sales, customers, retail, associates, manager, service, merchandising\n",
      "\n",
      "Cluster 4: galt, earnings, business, credit, owners, sales, personal, memberships, saas, bonus\n"
     ]
    }
   ],
   "source": [
    "# 🔍 Top Terms Per Cluster (KMeans)\n",
    "def get_top_terms_per_cluster(tfidf_matrix, labels, feature_names, top_n=10):\n",
    "    cluster_terms = {}\n",
    "    for cluster_num in np.unique(labels):\n",
    "        indices = np.where(labels == cluster_num)[0]\n",
    "        cluster_matrix = tfidf_matrix[indices].mean(axis=0).A1\n",
    "        top_indices = cluster_matrix.argsort()[::-1][:top_n]\n",
    "        top_terms = [feature_names[i] for i in top_indices]\n",
    "        cluster_terms[cluster_num] = top_terms\n",
    "    return cluster_terms\n",
    "\n",
    "print(\"KMeans Cluster Terms:\")\n",
    "top_terms = get_top_terms_per_cluster(X, kmeans_labels, feature_names)\n",
    "for cluster, terms in top_terms.items():\n",
    "    print(f\"\\nCluster {cluster}: {', '.join(terms)}\")\n",
    "\n",
    "print(\"Agglo Cluster Terms:\")\n",
    "top_terms = get_top_terms_per_cluster(X, agglo_labels, feature_names)\n",
    "for cluster, terms in top_terms.items():\n",
    "    print(f\"\\nCluster {cluster}: {', '.join(terms)}\")"
   ]
  },
  {
   "cell_type": "code",
   "metadata": {
    "ExecuteTime": {
     "end_time": "2025-04-24T19:16:14.348262Z",
     "start_time": "2025-04-24T19:16:07.125398Z"
    }
   },
   "source": [
    "from sklearn.decomposition import TruncatedSVD\n",
    "from sklearn.cluster import KMeans\n",
    "from sklearn.metrics import silhouette_score\n",
    "import matplotlib.pyplot as plt\n",
    "\n",
    "scores = []\n",
    "components_range = [50, 100, 150, 200, 300]\n",
    "\n",
    "for n in components_range:\n",
    "    svd = TruncatedSVD(n_components=n, random_state=42)\n",
    "    X_reduced = svd.fit_transform(X)\n",
    "    kmeans = KMeans(n_clusters=5, random_state=42)\n",
    "    labels = kmeans.fit_predict(X_reduced)\n",
    "    score = silhouette_score(X_reduced, labels)\n",
    "    scores.append(score)\n",
    "\n",
    "plt.plot(components_range, scores, marker='o')\n",
    "plt.title(\"Silhouette Score vs TruncatedSVD Components\")\n",
    "plt.xlabel(\"n_components\")\n",
    "plt.ylabel(\"Silhouette Score\")\n",
    "plt.grid(True)\n",
    "plt.show()\n",
    "\n",
    "best_scores = []\n",
    "cluster_range = range(2, 11)\n",
    "\n",
    "for k in cluster_range:\n",
    "    kmeans = KMeans(n_clusters=k, random_state=42)\n",
    "    labels = kmeans.fit_predict(X_reduced)\n",
    "    score = silhouette_score(X_reduced, labels)\n",
    "    best_scores.append(score)\n",
    "\n",
    "plt.plot(cluster_range, best_scores, marker='o')\n",
    "plt.title(\"Silhouette Score vs Number of Clusters\")\n",
    "plt.xlabel(\"n_clusters\")\n",
    "plt.ylabel(\"Silhouette Score\")\n",
    "plt.grid(True)\n",
    "plt.show()\n",
    "\n",
    "from sklearn.cluster import AgglomerativeClustering\n",
    "\n",
    "linkage_methods = ['ward', 'average', 'complete', 'single']\n",
    "for method in linkage_methods:\n",
    "    agglo = AgglomerativeClustering(n_clusters=5, linkage=method)\n",
    "    labels = agglo.fit_predict(X_reduced)\n",
    "    score = silhouette_score(X_reduced, labels)\n",
    "    print(f\"Linkage: {method} => Silhouette Score: {score:.4f}\")\n",
    "\n",
    "\n"
   ],
   "outputs": [
    {
     "data": {
      "text/plain": [
       "<Figure size 640x480 with 1 Axes>"
      ],
      "image/png": "[encoded data removed]"
     },
     "metadata": {},
     "output_type": "display_data"
    },
    {
     "data": {
      "text/plain": [
       "<Figure size 640x480 with 1 Axes>"
      ],
      "image/png": "[encoded data removed]"
     },
     "metadata": {},
     "output_type": "display_data"
    },
    {
     "name": "stdout",
     "output_type": "stream",
     "text": [
      "Linkage: ward => Silhouette Score: 0.0294\n",
      "Linkage: average => Silhouette Score: 0.1404\n",
      "Linkage: complete => Silhouette Score: 0.0234\n",
      "Linkage: single => Silhouette Score: 0.0965\n"
     ]
    }
   ],
   "execution_count": 73
  },
  {
   "metadata": {},
   "cell_type": "markdown",
   "source": [
    "## Final Insights and Conclusion\n",
    "\n",
    "After performing clustering on the job descriptions dataset using both KMeans and Agglomerative Clustering, we found meaningful groupings that correspond to different job functions.\n",
    "\n",
    "### Model Comparison\n",
    "- **KMeans** achieved a silhouette score of `0.015972038040022674`, which indicates slightly better cohesion and separation.\n",
    "- **Agglomerative Clustering** achieved a silhouette score of `0.011816638932325792`, which indicates it performed slightly worse, more overlap.\n",
    "- Agglomerative (SVD + average) achieved a silhouette score of `0.1404`, which is much better separation and dimensionality reduction. This is an almost 10x improvement the clusters now have clearer internal cohesion and are much more distinct\n",
    "- **t-SNE** plots provided a clear visualization of the distinct cluster formation but SVD is the much better way to go.\n",
    "\n",
    "### Cluster Interpretation\n",
    "By extracting the top terms for each cluster, we observed that:\n",
    "- Cluster 0 centered around technical terms like `marketing, media, content, campaigns` — likely social media / marketing roles.\n",
    "- Cluster 1 emphasized `work, experience, team, company` — pointing to job descriptions all have an about them, the team and required experience.\n",
    "- Clusteer 2 `project, data, experience, design, engineering` indicating engineering positions.\n",
    "- Cluster 3 centered around `care, patient, patients, nursing` indicating healthcare.\n",
    "- Cluster 4 was indicating sales positions with terms like `sales, store, customer, customers`\n",
    "\n",
    "### Conclusion\n",
    "In conclusion by using TruncatedSVD alongside Agglomerative we were able to produce a much better result. This optimization significantly imrpoved the cluster quality.\n",
    "\n",
    "Further improvements could include:\n",
    "- Incorporating **word embeddings** (e.g., Word2Vec or BERT)\n",
    "- Using **job title** or **location** as additional features\n",
    "- Building a **web app** to explore and categorize new job postings interactively\n"
   ]
  }
 ],
 "metadata": {
  "kernelspec": {
   "display_name": "Python 3 (ipykernel)",
   "language": "python",
   "name": "python3"
  },
  "language_info": {
   "codemirror_mode": {
    "name": "ipython",
    "version": 3
   },
   "file_extension": ".py",
   "mimetype": "text/x-python",
   "name": "python",
   "nbconvert_exporter": "python",
   "pygments_lexer": "ipython3",
   "version": "3.9.6"
  }
 },
 "nbformat": 4,
 "nbformat_minor": 4
}
